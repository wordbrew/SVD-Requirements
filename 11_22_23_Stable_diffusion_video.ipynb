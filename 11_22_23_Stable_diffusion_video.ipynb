{
  "nbformat": 4,
  "nbformat_minor": 0,
  "metadata": {
    "colab": {
      "provenance": [],
      "gpuType": "V100",
      "machine_shape": "hm",
      "name": "11-22-23-Stable-diffusion-video.ipynb",
      "authorship_tag": "ABX9TyO9Fh1tRnSNHZRIa25b7Wc4",
      "include_colab_link": true
    },
    "kernelspec": {
      "name": "python3",
      "display_name": "Python 3"
    },
    "language_info": {
      "name": "python"
    },
    "accelerator": "GPU"
  },
  "cells": [
    {
      "cell_type": "markdown",
      "metadata": {
        "id": "view-in-github",
        "colab_type": "text"
      },
      "source": [
        "<a href=\"https://colab.research.google.com/github/wordbrew/SVD-Requirements/blob/main/11_22_23_Stable_diffusion_video.ipynb\" target=\"_parent\"><img src=\"https://colab.research.google.com/assets/colab-badge.svg\" alt=\"Open In Colab\"/></a>"
      ]
    },
    {
      "cell_type": "code",
      "execution_count": null,
      "metadata": {
        "id": "X1-a2d1PzuE9",
        "cellView": "form"
      },
      "outputs": [],
      "source": [
        "#@markdown # Connect Google Drive\n",
        "from google.colab import drive\n",
        "\n",
        "print(\"Connecting...\")\n",
        "drive.mount('/content/drive')"
      ]
    },
    {
      "cell_type": "code",
      "source": [
        "#@markdown # Clone the Repo\n",
        "import os\n",
        "\n",
        "#Create a new subfolder in Google Drive and change directory\n",
        "path = '/content/drive/MyDrive/SVD'\n",
        "os.makedirs(path, exist_ok=True)  # Create the folder if it doesn't exist\n",
        "os.chdir(path)  # Change the current working directory to the new folder\n",
        "\n",
        "# Set the destination path where the repository is supposed to be cloned\n",
        "generative_models_path = '/content/drive/MyDrive/SVD/generative-models'\n",
        "\n",
        "# Check if the destination path already exists\n",
        "if not os.path.exists(generative_models_path):\n",
        "    # If the path does not exist, clone the repository\n",
        "    !git clone https://github.com/Stability-AI/generative-models.git {generative_models_path}\n",
        "else:\n",
        "    print(f\"Directory '{generative_models_path}' already exists, skipping clone.\")\n",
        "\n",
        "# Change directory to the 'generative-models' directory\n",
        "os.chdir(generative_models_path)"
      ],
      "metadata": {
        "id": "H0PbTNWF0BqP",
        "cellView": "form"
      },
      "execution_count": null,
      "outputs": []
    },
    {
      "cell_type": "code",
      "source": [
        "#@markdown # Install Dependencies\n",
        "from IPython.display import clear_output\n",
        "\n",
        "# Install dependencies\n",
        "!pip install -r requirements/pt2.txt\n",
        "!pip install .\n",
        "\n",
        "clear_output()\n",
        "print(\"Dependencies successfully installed.\")"
      ],
      "metadata": {
        "id": "LE9cfM5B0Vqh",
        "cellView": "form"
      },
      "execution_count": null,
      "outputs": []
    },
    {
      "cell_type": "code",
      "source": [
        "import os\n",
        "import requests\n",
        "from tqdm import tqdm\n",
        "\n",
        "#@markdown # Model Download/Load\n",
        "SVD_Model_Version = \"SVD\" #@param [ \"SVD\", \"SVD_XT\"]\n",
        "\n",
        "# Set the destination path\n",
        "destination_path = '/content/drive/MyDrive/SVD/generative-models'\n",
        "\n",
        "# Check if 'checkpoint' folder exists, and create it if not\n",
        "checkpoint_dir = os.path.join(destination_path, 'checkpoints')\n",
        "if not os.path.exists(checkpoint_dir):\n",
        "    os.makedirs(checkpoint_dir)\n",
        "    print(\"Created directory: \", checkpoint_dir)\n",
        "else:\n",
        "    print(\"Directory already exists: \", checkpoint_dir)\n",
        "\n",
        "# URLs for the files to be downloaded\n",
        "model_url = \"https://huggingface.co/stabilityai/stable-video-diffusion-img2vid/resolve/main/svd.safetensors\"\n",
        "decoder_url = \"https://huggingface.co/stabilityai/stable-video-diffusion-img2vid/resolve/main/svd_image_decoder.safetensors\"\n",
        "model_xt_url = \"https://huggingface.co/stabilityai/stable-video-diffusion-img2vid-xt/resolve/main/svd_xt.safetensors\"\n",
        "decoder_xt_url = \"https://huggingface.co/stabilityai/stable-video-diffusion-img2vid-xt/resolve/main/svd_xt_image_decoder.safetensors\"\n",
        "\n",
        "# Function to download a file from a URL with a progress bar\n",
        "def download_file(url, folder):\n",
        "    # Get the filename from the URL\n",
        "    filename = url.split('/')[-1]\n",
        "    filepath = os.path.join(folder, filename)\n",
        "\n",
        "    # Check if the file already exists\n",
        "    if os.path.exists(filepath):\n",
        "        print(f\"File already exists: {filename}\")\n",
        "        return\n",
        "\n",
        "    # Send a GET request to the URL\n",
        "    response = requests.get(url, stream=True)\n",
        "\n",
        "    # Get the total file size from headers\n",
        "    total_size = int(response.headers.get('content-length', 0))\n",
        "\n",
        "    # Write the file to the specified path with a progress bar\n",
        "    if response.status_code == 200:\n",
        "        with open(filepath, 'wb') as f, tqdm(\n",
        "            desc=filename,\n",
        "            total=total_size,\n",
        "            unit='iB',\n",
        "            unit_scale=True,\n",
        "            unit_divisor=1024,\n",
        "        ) as bar:\n",
        "            for data in response.iter_content(chunk_size=1024):\n",
        "                size = f.write(data)\n",
        "                bar.update(size)\n",
        "        print(f\"Downloaded: {filename}\")\n",
        "    else:\n",
        "        print(f\"Failed to download: {filename}\")\n",
        "\n",
        "# Download the files based on model version\n",
        "def SVD():\n",
        "    download_file(model_url, checkpoint_dir)\n",
        "    download_file(decoder_url, checkpoint_dir)\n",
        "\n",
        "def SVD_XT():\n",
        "    download_file(model_xt_url, checkpoint_dir)\n",
        "    download_file(decoder_xt_url, checkpoint_dir)\n",
        "\n",
        "# Invoke the appropriate function based on the selected model version\n",
        "if SVD_Model_Version == \"SVD\":\n",
        "    SVD()\n",
        "elif SVD_Model_Version == \"SVD_XT\":\n",
        "    SVD_XT()"
      ],
      "metadata": {
        "cellView": "form",
        "id": "YR_tO4bxKlgo"
      },
      "execution_count": null,
      "outputs": []
    },
    {
      "cell_type": "code",
      "source": [
        "#@markdown # Setup ngrok API Key\n",
        "\n",
        "#@markdown If you don't already have an account, get one at https://dashboard.ngrok.com/\n",
        "\n",
        "from IPython.display import clear_output\n",
        "\n",
        "#Install pyngrok\n",
        "!pip install pyngrok\n",
        "\n",
        "#Type API Key in field to the right\n",
        "api_key = \"\" #@param {type:\"string\"}\n",
        "\n",
        "#Set API Key\n",
        "if api_key.strip():\n",
        "    # Set API Key\n",
        "    !ngrok config add-authtoken {api_key}\n",
        "    clear_output()\n",
        "    print(\"ngrok setup.\")\n",
        "else:\n",
        "    print(\"Please enter an API key. If you don't have one, get it at https://dashboard.ngrok.com/\")"
      ],
      "metadata": {
        "id": "5jCocfiiOmc9",
        "cellView": "form"
      },
      "execution_count": null,
      "outputs": []
    },
    {
      "cell_type": "code",
      "source": [
        "#@markdown # Run the Program with UI\n",
        "import os\n",
        "from pyngrok import ngrok\n",
        "\n",
        "!cp '/content/drive/MyDrive/SVD/generative-models/scripts/demo/video_sampling.py' '/content/drive/MyDrive/SVD/generative-models/'\n",
        "\n",
        "#set PythonPath\n",
        "os.environ['PYTHONPATH'] = \"/content/drive/MyDrive/SVD/generative-models/\"\n",
        "\n",
        "# Define the path to the directory\n",
        "directory_path = \"/content/drive/MyDrive/SVD/generative-models/\"\n",
        "\n",
        "# Change the current working directory to the specified path\n",
        "os.chdir(directory_path)\n",
        "\n",
        "# Check current working directory to verify if the change was successful\n",
        "print(\"Current Working Directory: \", os.getcwd())\n",
        "\n",
        "#Set NGROK url\n",
        "public_url = ngrok.connect(\"8501\").public_url\n",
        "print(\"Public URL\", public_url)\n",
        "\n",
        "# Run video_sampling.py via streamlit\n",
        "!streamlit run video_sampling.py --server.port 8501"
      ],
      "metadata": {
        "id": "fMKjuBnA9U-p",
        "cellView": "form"
      },
      "execution_count": null,
      "outputs": []
    }
  ]
}